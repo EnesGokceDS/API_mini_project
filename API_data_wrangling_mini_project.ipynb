{
  "nbformat": 4,
  "nbformat_minor": 0,
  "metadata": {
    "kernelspec": {
      "display_name": "Python 2",
      "language": "python",
      "name": "python2"
    },
    "language_info": {
      "codemirror_mode": {
        "name": "ipython",
        "version": 2
      },
      "file_extension": ".py",
      "mimetype": "text/x-python",
      "name": "python",
      "nbconvert_exporter": "python",
      "pygments_lexer": "ipython2",
      "version": "2.7.13"
    },
    "colab": {
      "name": "API_data_wrangling_mini_project.ipynb",
      "provenance": [],
      "include_colab_link": true
    }
  },
  "cells": [
    {
      "cell_type": "markdown",
      "metadata": {
        "id": "view-in-github",
        "colab_type": "text"
      },
      "source": [
        "<a href=\"https://colab.research.google.com/github/EnesGokceDS/API_mini_project/blob/master/API_data_wrangling_mini_project.ipynb\" target=\"_parent\"><img src=\"https://colab.research.google.com/assets/colab-badge.svg\" alt=\"Open In Colab\"/></a>"
      ]
    },
    {
      "cell_type": "markdown",
      "metadata": {
        "id": "b97AsU948_pr",
        "colab_type": "text"
      },
      "source": [
        "This exercise will require you to pull some data from the Qunadl API. Qaundl is currently the most widely used aggregator of financial market data."
      ]
    },
    {
      "cell_type": "markdown",
      "metadata": {
        "id": "1IHLdy8s8_px",
        "colab_type": "text"
      },
      "source": [
        "As a first step, you will need to register a free account on the http://www.quandl.com website."
      ]
    },
    {
      "cell_type": "markdown",
      "metadata": {
        "id": "CjVyf0av8_pz",
        "colab_type": "text"
      },
      "source": [
        "After you register, you will be provided with a unique API key, that you should store:"
      ]
    },
    {
      "cell_type": "code",
      "metadata": {
        "id": "xikwV6D38_p2",
        "colab_type": "code",
        "colab": {}
      },
      "source": [
        "# Store the API key as a string - according to PEP8, constants are always named in all upper case\n",
        "API_KEY = 'Personal Info'"
      ],
      "execution_count": 0,
      "outputs": []
    },
    {
      "cell_type": "markdown",
      "metadata": {
        "id": "Wsra9DDL8_qP",
        "colab_type": "text"
      },
      "source": [
        "Qaundl has a large number of data sources, but, unfortunately, most of them require a Premium subscription. Still, there are also a good number of free datasets."
      ]
    },
    {
      "cell_type": "markdown",
      "metadata": {
        "id": "BUILbWjD8_qR",
        "colab_type": "text"
      },
      "source": [
        "For this mini project, we will focus on equities data from the Frankfurt Stock Exhange (FSE), which is available for free. We'll try and analyze the stock prices of a company called Carl Zeiss Meditec, which manufactures tools for eye examinations, as well as medical lasers for laser eye surgery: https://www.zeiss.com/meditec/int/home.html. The company is listed under the stock ticker AFX_X."
      ]
    },
    {
      "cell_type": "markdown",
      "metadata": {
        "id": "G8k7AB5O8_qT",
        "colab_type": "text"
      },
      "source": [
        "You can find the detailed Quandl API instructions here: https://docs.quandl.com/docs/time-series"
      ]
    },
    {
      "cell_type": "markdown",
      "metadata": {
        "id": "bfA15aeL8_qV",
        "colab_type": "text"
      },
      "source": [
        "While there is a dedicated Python package for connecting to the Quandl API, we would prefer that you use the *requests* package, which can be easily downloaded using *pip* or *conda*. You can find the documentation for the package here: http://docs.python-requests.org/en/master/ "
      ]
    },
    {
      "cell_type": "markdown",
      "metadata": {
        "id": "wu-dSCzD8_qX",
        "colab_type": "text"
      },
      "source": [
        "Finally, apart from the *requests* package, you are encouraged to not use any third party Python packages, such as *pandas*, and instead focus on what's available in the Python Standard Library (the *collections* module might come in handy: https://pymotw.com/3/collections/ ).\n",
        "Also, since you won't have access to DataFrames, you are encouraged to us Python's native data structures - preferably dictionaries, though some questions can also be answered using lists.\n",
        "You can read more on these data structures here: https://docs.python.org/3/tutorial/datastructures.html"
      ]
    },
    {
      "cell_type": "markdown",
      "metadata": {
        "id": "nCjeveYn8_qZ",
        "colab_type": "text"
      },
      "source": [
        "Keep in mind that the JSON responses you will be getting from the API map almost one-to-one to Python's dictionaries. Unfortunately, they can be very nested, so make sure you read up on indexing dictionaries in the documentation provided above."
      ]
    },
    {
      "cell_type": "code",
      "metadata": {
        "id": "BrjDaI6M8_qb",
        "colab_type": "code",
        "colab": {}
      },
      "source": [
        "# First, import the relevant modules\n",
        "import requests\n",
        "import json"
      ],
      "execution_count": 0,
      "outputs": []
    },
    {
      "cell_type": "code",
      "metadata": {
        "id": "eyljAyOu8_qk",
        "colab_type": "code",
        "colab": {}
      },
      "source": [
        "# Now, call the Quandl API and pull out a small sample of the data (only one day) to get a glimpse\n",
        "# into the JSON structure that will be returned\n",
        "url= 'https://www.quandl.com/api/v3/datasets/FSE/AFX_X.json?start_date=2020-01-05&end_date=2020-01-05&api_key=API_KEY'\n",
        "\n",
        "Quandl_samp = requests.get(url)"
      ],
      "execution_count": 0,
      "outputs": []
    },
    {
      "cell_type": "code",
      "metadata": {
        "id": "zq3-ZFbP8_qs",
        "colab_type": "code",
        "colab": {
          "base_uri": "https://localhost:8080/",
          "height": 35
        },
        "outputId": "e97c82a7-843a-4ca4-e984-d10e4fd233da"
      },
      "source": [
        "# Inspect the JSON structure of the object you created, and take note of how nested it is,\n",
        "# as well as the overall structure\n",
        "print(Quandl_samp.json())\n",
        "\n",
        "\n",
        "#response=requests.get(url).json()\n",
        "#print(json.dumps(response,indent=4))"
      ],
      "execution_count": 34,
      "outputs": [
        {
          "output_type": "stream",
          "text": [
            "{u'quandl_error': {u'message': u'You have exceeded the API speed limit of 20 calls per 10 minutes. Please slow down your requests.', u'code': u'QELx04'}}\n"
          ],
          "name": "stdout"
        }
      ]
    },
    {
      "cell_type": "markdown",
      "metadata": {
        "id": "mmMV-W1W8_q4",
        "colab_type": "text"
      },
      "source": [
        "These are your tasks for this mini project:\n",
        "\n",
        "1. Collect data from the Franfurt Stock Exchange, for the ticker AFX_X, for the whole year 2017 (keep in mind that the date format is YYYY-MM-DD).\n",
        "2. Convert the returned JSON object into a Python dictionary.\n",
        "3. Calculate what the highest and lowest opening prices were for the stock in this period.\n",
        "4. What was the largest change in any one day (based on High and Low price)?\n",
        "5. What was the largest change between any two days (based on Closing Price)?\n",
        "6. What was the average daily trading volume during this year?\n",
        "7. (Optional) What was the median trading volume during this year. (Note: you may need to implement your own function for calculating the median.)"
      ]
    },
    {
      "cell_type": "markdown",
      "metadata": {
        "id": "FSwpssXIf2h7",
        "colab_type": "text"
      },
      "source": [
        "1. Collect data from the Franfurt Stock Exchange, for the ticker AFX_X, for the whole year 2017 (keep in mind that the date format is YYYY-MM-DD)."
      ]
    },
    {
      "cell_type": "code",
      "metadata": {
        "id": "EKle6f8EcyBG",
        "colab_type": "code",
        "colab": {}
      },
      "source": [
        "# Get data\n",
        "response = requests.get('https://www.quandl.com/api/v3/datasets/FSE/AFX_X/data.json?start_date=2017-01-01&end_date=2017-12-31&api_key=API_KEY')"
      ],
      "execution_count": 0,
      "outputs": []
    },
    {
      "cell_type": "markdown",
      "metadata": {
        "id": "ncs6r4ZbwUYo",
        "colab_type": "text"
      },
      "source": [
        "2. Convert the returned JSON object into a Python dictionary."
      ]
    },
    {
      "cell_type": "code",
      "metadata": {
        "id": "oLk7YE7ldG6n",
        "colab_type": "code",
        "colab": {}
      },
      "source": [
        "fse = response.json()"
      ],
      "execution_count": 0,
      "outputs": []
    },
    {
      "cell_type": "code",
      "metadata": {
        "id": "yM7U36--cm2N",
        "colab_type": "code",
        "colab": {}
      },
      "source": [
        "# Now let's initialize important variables\n",
        "fse_open = []\n",
        "fse_high = []\n",
        "fse_low = []\n",
        "fse_close = []\n",
        "fse_change = [0] \n",
        "fse_daily_change = []\n",
        "fse_volume = []"
      ],
      "execution_count": 0,
      "outputs": []
    },
    {
      "cell_type": "code",
      "metadata": {
        "id": "ZaW80iJUcqQO",
        "colab_type": "code",
        "colab": {}
      },
      "source": [
        "for i in range(len(fse['dataset_data']['data'])):\n",
        "    dummy_open = fse['dataset_data']['data'][i][1]\n",
        "    dummy_close = fse['dataset_data']['data'][i][4]\n",
        "    dummy_high = fse['dataset_data']['data'][i][2]\n",
        "    dummy_low = fse['dataset_data']['data'][i][3]\n",
        "    dummy_vol = fse['dataset_data']['data'][i][6]\n",
        "    if isinstance(dummy_open,float):\n",
        "        fse_open.append(dummy_open)\n",
        "    if isinstance(dummy_close,float):\n",
        "        fse_close.append(dummy_close)\n",
        "    if isinstance(dummy_high,float) and isinstance(dummy_low,float):    \n",
        "        fse_daily_change.append(dummy_high - dummy_low)\n",
        "    if i != 0:\n",
        "        fse_change.append(fse_close[i] - fse_close[i-1])\n",
        "    if isinstance(dummy_vol,float):\n",
        "        fse_volume.append(dummy_vol)"
      ],
      "execution_count": 0,
      "outputs": []
    },
    {
      "cell_type": "markdown",
      "metadata": {
        "id": "iWW6oZU8waVg",
        "colab_type": "text"
      },
      "source": [
        "3. Calculate what the highest and lowest opening prices were for the stock in this period."
      ]
    },
    {
      "cell_type": "code",
      "metadata": {
        "id": "gv9tb12rC1XG",
        "colab_type": "code",
        "colab": {
          "base_uri": "https://localhost:8080/",
          "height": 53
        },
        "outputId": "0bb5287c-a431-495e-a062-6836ba09d3d3"
      },
      "source": [
        "print('Highest opening price is: $%4.2f'% max(fse_open))\n",
        "print('Lowest opening price is: $%4.2f'% min(fse_open))"
      ],
      "execution_count": 16,
      "outputs": [
        {
          "output_type": "stream",
          "text": [
            "Highest opening price is: $53.11\n",
            "Lowest opening price is: $34.00\n"
          ],
          "name": "stdout"
        }
      ]
    },
    {
      "cell_type": "markdown",
      "metadata": {
        "id": "6KYNN6_fztJi",
        "colab_type": "text"
      },
      "source": [
        "4. What was the largest change in any one day (based on High and Low price)?"
      ]
    },
    {
      "cell_type": "code",
      "metadata": {
        "id": "iWjckjbRzWHB",
        "colab_type": "code",
        "colab": {}
      },
      "source": [
        "print('The largest change in any one day is: $%4.2f'% max(fse_daily_change))"
      ],
      "execution_count": 0,
      "outputs": []
    },
    {
      "cell_type": "markdown",
      "metadata": {
        "id": "anmPNJrTzxBB",
        "colab_type": "text"
      },
      "source": [
        "5. What was the largest change between any two days (based on Closing Price)?"
      ]
    },
    {
      "cell_type": "code",
      "metadata": {
        "id": "tuEo2stCzpQa",
        "colab_type": "code",
        "colab": {}
      },
      "source": [
        "print('The largest change is: $%4.2f'% max(fse_change))"
      ],
      "execution_count": 0,
      "outputs": []
    },
    {
      "cell_type": "markdown",
      "metadata": {
        "id": "5Dq74zo20GF-",
        "colab_type": "text"
      },
      "source": [
        "6.  What was the average daily trading volume during this year?average?"
      ]
    },
    {
      "cell_type": "code",
      "metadata": {
        "id": "mU1C7IJMjKBe",
        "colab_type": "code",
        "colab": {}
      },
      "source": [
        "average_vol = sum(fse_volume)/len(fse_volume)\n",
        "print('The average traded volume is: $%4.2f'% average_vol)"
      ],
      "execution_count": 0,
      "outputs": []
    },
    {
      "cell_type": "markdown",
      "metadata": {
        "id": "lLW5qIKQ0Wma",
        "colab_type": "text"
      },
      "source": [
        "7. (Optional) What was the median trading volume during this year. (Note: you may need to implement your own function for calculating the median.)"
      ]
    },
    {
      "cell_type": "code",
      "metadata": {
        "id": "p56DzoXljKEI",
        "colab_type": "code",
        "colab": {}
      },
      "source": [
        "median = sorted(fse_volume)[int(len(fse_volume)/2)]\n",
        "print('Median volume is: $%4.2f'% median)"
      ],
      "execution_count": 0,
      "outputs": []
    }
  ]
}
